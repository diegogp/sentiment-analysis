{
 "metadata": {
  "language_info": {
   "codemirror_mode": {
    "name": "ipython",
    "version": 3
   },
   "file_extension": ".py",
   "mimetype": "text/x-python",
   "name": "python",
   "nbconvert_exporter": "python",
   "pygments_lexer": "ipython3",
   "version": "3.7.10"
  },
  "orig_nbformat": 2,
  "kernelspec": {
   "name": "python3710jvsc74a57bd03e9b354ce98f47c9dd0b59702fdeb863bfffe347fccce27b4aea934dfd1532aa",
   "display_name": "Python 3.7.10 64-bit ('sentiment-analysis': conda)"
  }
 },
 "nbformat": 4,
 "nbformat_minor": 2,
 "cells": [
  {
   "cell_type": "code",
   "execution_count": 178,
   "metadata": {},
   "outputs": [],
   "source": [
    "from sklearn.model_selection import train_test_split\n",
    "from lazypredict.Supervised import LazyClassifier\n",
    "from sklearn.feature_extraction.text import TfidfVectorizer \n",
    "from sklearn.metrics import classification_report\n",
    "import pandas as pd\n",
    "import utils"
   ]
  },
  {
   "cell_type": "code",
   "execution_count": 179,
   "metadata": {},
   "outputs": [],
   "source": [
    "dataset = pd.read_excel('data.xlsx')"
   ]
  },
  {
   "cell_type": "code",
   "execution_count": 180,
   "metadata": {},
   "outputs": [
    {
     "output_type": "execute_result",
     "data": {
      "text/plain": [
       "(2000, 6)"
      ]
     },
     "metadata": {},
     "execution_count": 180
    }
   ],
   "source": [
    "dataset.shape"
   ]
  },
  {
   "cell_type": "code",
   "execution_count": 181,
   "metadata": {},
   "outputs": [
    {
     "output_type": "execute_result",
     "data": {
      "text/plain": [
       "                id_str                                               text  \\\n",
       "0  1363503470377136130  @mvpcastro Nunca em momento houve limites no B...   \n",
       "1  1364981948872089602                      @tmaia29 @Flamengo porraaaaaa   \n",
       "2  1363576501065707527               @avictaick Motivo o Flamengo?? Kkkkk   \n",
       "3  1364964990688575489    @Flamengo @AlexandreVidal1 👏🏼👏🏼👏🏼👏🏼👏🏼👏🏼👏🏼👏🏼👏🏼👏🏼   \n",
       "4  1363561902488637446    @negrixXxxXXx e quando n tem flamengo na parada   \n",
       "\n",
       "                                   preprocessed_text  \\\n",
       "0  nunca em momento houve limites no brasil para ...   \n",
       "1                                         porraaaaaa   \n",
       "2                            motivo o flamengo kkkkk   \n",
       "3                                                NaN   \n",
       "4                  e quando n tem flamengo na parada   \n",
       "\n",
       "                                       liwc_analysis  is_subjective  \\\n",
       "0  {'function (Function Words)': 12, 'adverb (Adv...              1   \n",
       "1                                                 {}              0   \n",
       "2  {'cogproc (Cognitive Processes)': 1, 'insight ...              1   \n",
       "3                                                 {}              0   \n",
       "4  {'function (Function Words)': 4, 'conj (Conjun...              0   \n",
       "\n",
       "   classificacao  \n",
       "0           0.00  \n",
       "1            nan  \n",
       "2           0.00  \n",
       "3            nan  \n",
       "4            nan  "
      ],
      "text/html": "<div>\n<style scoped>\n    .dataframe tbody tr th:only-of-type {\n        vertical-align: middle;\n    }\n\n    .dataframe tbody tr th {\n        vertical-align: top;\n    }\n\n    .dataframe thead th {\n        text-align: right;\n    }\n</style>\n<table border=\"1\" class=\"dataframe\">\n  <thead>\n    <tr style=\"text-align: right;\">\n      <th></th>\n      <th>id_str</th>\n      <th>text</th>\n      <th>preprocessed_text</th>\n      <th>liwc_analysis</th>\n      <th>is_subjective</th>\n      <th>classificacao</th>\n    </tr>\n  </thead>\n  <tbody>\n    <tr>\n      <th>0</th>\n      <td>1363503470377136130</td>\n      <td>@mvpcastro Nunca em momento houve limites no B...</td>\n      <td>nunca em momento houve limites no brasil para ...</td>\n      <td>{'function (Function Words)': 12, 'adverb (Adv...</td>\n      <td>1</td>\n      <td>0.00</td>\n    </tr>\n    <tr>\n      <th>1</th>\n      <td>1364981948872089602</td>\n      <td>@tmaia29 @Flamengo porraaaaaa</td>\n      <td>porraaaaaa</td>\n      <td>{}</td>\n      <td>0</td>\n      <td>nan</td>\n    </tr>\n    <tr>\n      <th>2</th>\n      <td>1363576501065707527</td>\n      <td>@avictaick Motivo o Flamengo?? Kkkkk</td>\n      <td>motivo o flamengo kkkkk</td>\n      <td>{'cogproc (Cognitive Processes)': 1, 'insight ...</td>\n      <td>1</td>\n      <td>0.00</td>\n    </tr>\n    <tr>\n      <th>3</th>\n      <td>1364964990688575489</td>\n      <td>@Flamengo @AlexandreVidal1 👏🏼👏🏼👏🏼👏🏼👏🏼👏🏼👏🏼👏🏼👏🏼👏🏼</td>\n      <td>NaN</td>\n      <td>{}</td>\n      <td>0</td>\n      <td>nan</td>\n    </tr>\n    <tr>\n      <th>4</th>\n      <td>1363561902488637446</td>\n      <td>@negrixXxxXXx e quando n tem flamengo na parada</td>\n      <td>e quando n tem flamengo na parada</td>\n      <td>{'function (Function Words)': 4, 'conj (Conjun...</td>\n      <td>0</td>\n      <td>nan</td>\n    </tr>\n  </tbody>\n</table>\n</div>"
     },
     "metadata": {},
     "execution_count": 181
    }
   ],
   "source": [
    "dataset.head()"
   ]
  },
  {
   "cell_type": "code",
   "execution_count": 182,
   "metadata": {},
   "outputs": [
    {
     "output_type": "execute_result",
     "data": {
      "text/plain": [
       "0.00     819\n",
       "1.00     272\n",
       "-1.00     80\n",
       "Name: classificacao, dtype: int64"
      ]
     },
     "metadata": {},
     "execution_count": 182
    }
   ],
   "source": [
    "dataset.classificacao.value_counts()"
   ]
  },
  {
   "cell_type": "code",
   "execution_count": 183,
   "metadata": {},
   "outputs": [
    {
     "output_type": "execute_result",
     "data": {
      "text/plain": [
       "1    1171\n",
       "0     829\n",
       "Name: is_subjective, dtype: int64"
      ]
     },
     "metadata": {},
     "execution_count": 183
    }
   ],
   "source": [
    "dataset.is_subjective.value_counts()"
   ]
  },
  {
   "cell_type": "code",
   "execution_count": 184,
   "metadata": {},
   "outputs": [],
   "source": [
    "dataset = dataset.where(dataset.is_subjective == 1)"
   ]
  },
  {
   "cell_type": "code",
   "execution_count": 185,
   "metadata": {},
   "outputs": [],
   "source": [
    "dataset.dropna(inplace=True)"
   ]
  },
  {
   "cell_type": "code",
   "execution_count": 186,
   "metadata": {},
   "outputs": [],
   "source": [
    "dataset.drop_duplicates(subset=['preprocessed_text'], inplace=True)"
   ]
  },
  {
   "cell_type": "code",
   "execution_count": 187,
   "metadata": {},
   "outputs": [],
   "source": [
    "dataset.rename(columns={\"classificacao\": \"target\"}, inplace=True)\n",
    "dataset.target.replace(-1,1, inplace=True)\n",
    "dataset = dataset[['preprocessed_text', 'target']]"
   ]
  },
  {
   "cell_type": "code",
   "execution_count": 188,
   "metadata": {},
   "outputs": [],
   "source": [
    "dataset.preprocessed_text = dataset.preprocessed_text.apply(utils.remove_non_ascii_normalized)"
   ]
  },
  {
   "cell_type": "code",
   "execution_count": 189,
   "metadata": {
    "tags": []
   },
   "outputs": [],
   "source": [
    "#dataset.preprocessed_text = dataset.preprocessed_text.apply(utils.remove_stopwords)"
   ]
  },
  {
   "cell_type": "code",
   "execution_count": 190,
   "metadata": {},
   "outputs": [],
   "source": [
    "X_train, X_test, y_train, y_test = train_test_split(dataset.preprocessed_text,\n",
    "                               dataset.target, stratify=dataset.target, random_state=0)"
   ]
  },
  {
   "cell_type": "code",
   "execution_count": 191,
   "metadata": {},
   "outputs": [
    {
     "output_type": "execute_result",
     "data": {
      "text/plain": [
       "((833,), (278,))"
      ]
     },
     "metadata": {},
     "execution_count": 191
    }
   ],
   "source": [
    "X_train.shape, X_test.shape"
   ]
  },
  {
   "cell_type": "code",
   "execution_count": 192,
   "metadata": {},
   "outputs": [],
   "source": [
    "vectorizer = TfidfVectorizer(max_features=1000, ngram_range=(1,1))"
   ]
  },
  {
   "cell_type": "code",
   "execution_count": 193,
   "metadata": {},
   "outputs": [],
   "source": [
    "X_train_tfidf = vectorizer.fit_transform(X_train)\n",
    "X_test_tfidf = vectorizer.transform(X_test)"
   ]
  },
  {
   "cell_type": "code",
   "execution_count": 194,
   "metadata": {},
   "outputs": [
    {
     "output_type": "stream",
     "name": "stderr",
     "text": [
      "  3%|▎         | 1/29 [00:00<00:18,  1.51it/s]{'Model': 'AdaBoostClassifier', 'Accuracy': 0.6870503597122302, 'Balanced Accuracy': 0.5938797616898357, 'ROC AUC': 0.5938797616898357, 'F1 Score': 0.6686397202282084, 'Time taken': 0.6522574424743652}\n",
      "  7%|▋         | 2/29 [00:01<00:21,  1.27it/s]{'Model': 'BaggingClassifier', 'Accuracy': 0.6870503597122302, 'Balanced Accuracy': 0.6001384124691581, 'ROC AUC': 0.6001384124691581, 'F1 Score': 0.6721026710640318, 'Time taken': 0.8697788715362549}\n",
      "{'Model': 'BernoulliNB', 'Accuracy': 0.7338129496402878, 'Balanced Accuracy': 0.6372991514713847, 'ROC AUC': 0.6372991514713848, 'F1 Score': 0.7123680725749072, 'Time taken': 0.07770252227783203}\n",
      " 21%|██        | 6/29 [00:06<00:22,  1.03it/s]{'Model': 'CalibratedClassifierCV', 'Accuracy': 0.6870503597122302, 'Balanced Accuracy': 0.5, 'ROC AUC': 0.5, 'F1 Score': 0.5596017855225415, 'Time taken': 4.5941736698150635}\n",
      "{'Model': 'DecisionTreeClassifier', 'Accuracy': 0.60431654676259, 'Balanced Accuracy': 0.5305410122164049, 'ROC AUC': 0.5305410122164048, 'F1 Score': 0.60031017895551, 'Time taken': 0.14360260963439941}\n",
      " 28%|██▊       | 8/29 [00:06<00:12,  1.64it/s]{'Model': 'DummyClassifier', 'Accuracy': 0.5863309352517986, 'Balanced Accuracy': 0.5237106577601252, 'ROC AUC': 0.5237106577601252, 'F1 Score': 0.5881993926347228, 'Time taken': 0.06978106498718262}\n",
      "{'Model': 'ExtraTreeClassifier', 'Accuracy': 0.6438848920863309, 'Balanced Accuracy': 0.584371426852019, 'ROC AUC': 0.584371426852019, 'F1 Score': 0.6433205599000478, 'Time taken': 0.07782411575317383}\n",
      " 31%|███       | 9/29 [00:07<00:14,  1.42it/s]{'Model': 'ExtraTreesClassifier', 'Accuracy': 0.7338129496402878, 'Balanced Accuracy': 0.62478184991274, 'ROC AUC': 0.6247818499127399, 'F1 Score': 0.7046488023989042, 'Time taken': 1.0179998874664307}\n",
      "{'Model': 'GaussianNB', 'Accuracy': 0.6330935251798561, 'Balanced Accuracy': 0.6641391346211711, 'ROC AUC': 0.6641391346211711, 'F1 Score': 0.6461164401811883, 'Time taken': 0.08569812774658203}\n",
      " 41%|████▏     | 12/29 [00:08<00:07,  2.19it/s]{'Model': 'KNeighborsClassifier', 'Accuracy': 0.6906474820143885, 'Balanced Accuracy': 0.6403081181922128, 'ROC AUC': 0.6403081181922129, 'F1 Score': 0.6906474820143885, 'Time taken': 0.5056185722351074}\n",
      "{'Model': 'LabelPropagation', 'Accuracy': 0.6942446043165468, 'Balanced Accuracy': 0.5114942528735632, 'ROC AUC': 0.5114942528735632, 'F1 Score': 0.576063519417606, 'Time taken': 0.14258408546447754}\n",
      " 45%|████▍     | 13/29 [00:08<00:06,  2.60it/s]{'Model': 'LabelSpreading', 'Accuracy': 0.6942446043165468, 'Balanced Accuracy': 0.5114942528735632, 'ROC AUC': 0.5114942528735632, 'F1 Score': 0.576063519417606, 'Time taken': 0.14860296249389648}\n",
      " 48%|████▊     | 14/29 [00:09<00:07,  2.12it/s]{'Model': 'LinearDiscriminantAnalysis', 'Accuracy': 0.5215827338129496, 'Balanced Accuracy': 0.5360474213155202, 'ROC AUC': 0.5360474213155203, 'F1 Score': 0.5384604207570576, 'Time taken': 0.7295246124267578}\n",
      " 55%|█████▌    | 16/29 [00:10<00:06,  1.99it/s]{'Model': 'LinearSVC', 'Accuracy': 0.6546762589928058, 'Balanced Accuracy': 0.6203887585003309, 'ROC AUC': 0.6203887585003309, 'F1 Score': 0.6609653997431102, 'Time taken': 1.0962560176849365}\n",
      "{'Model': 'LogisticRegression', 'Accuracy': 0.7446043165467626, 'Balanced Accuracy': 0.6889631100680027, 'ROC AUC': 0.6889631100680027, 'F1 Score': 0.7405783162356421, 'Time taken': 0.1435413360595703}\n",
      "{'Model': 'NearestCentroid', 'Accuracy': 0.7014388489208633, 'Balanced Accuracy': 0.6606788228922188, 'ROC AUC': 0.6606788228922188, 'F1 Score': 0.7036288489176651, 'Time taken': 0.07081198692321777}\n",
      " 66%|██████▌   | 19/29 [00:11<00:04,  2.30it/s]{'Model': 'NuSVC', 'Accuracy': 0.7553956834532374, 'Balanced Accuracy': 0.6530059577541072, 'ROC AUC': 0.6530059577541073, 'F1 Score': 0.7304801981432467, 'Time taken': 1.0948665142059326}\n",
      "{'Model': 'PassiveAggressiveClassifier', 'Accuracy': 0.7230215827338129, 'Balanced Accuracy': 0.6732563037852801, 'ROC AUC': 0.6732563037852802, 'F1 Score': 0.7216710841852834, 'Time taken': 0.10970711708068848}\n",
      "{'Model': 'Perceptron', 'Accuracy': 0.7014388489208633, 'Balanced Accuracy': 0.6419028705542517, 'ROC AUC': 0.6419028705542518, 'F1 Score': 0.6978678621377947, 'Time taken': 0.08913707733154297}\n",
      " 72%|███████▏  | 21/29 [00:12<00:03,  2.59it/s]{'Model': 'QuadraticDiscriminantAnalysis', 'Accuracy': 0.5827338129496403, 'Balanced Accuracy': 0.5367394836613107, 'ROC AUC': 0.5367394836613106, 'F1 Score': 0.5903331913562582, 'Time taken': 0.5346717834472656}\n",
      " 79%|███████▉  | 23/29 [00:13<00:02,  2.83it/s]{'Model': 'RandomForestClassifier', 'Accuracy': 0.7158273381294964, 'Balanced Accuracy': 0.6054341938978155, 'ROC AUC': 0.6054341938978155, 'F1 Score': 0.685798249897922, 'Time taken': 0.595440149307251}\n",
      "{'Model': 'RidgeClassifier', 'Accuracy': 0.5863309352517986, 'Balanced Accuracy': 0.5769091893843654, 'ROC AUC': 0.5769091893843654, 'F1 Score': 0.6004182436041688, 'Time taken': 0.10603833198547363}\n",
      " 83%|████████▎ | 24/29 [00:13<00:01,  2.88it/s]{'Model': 'RidgeClassifierCV', 'Accuracy': 0.6294964028776978, 'Balanced Accuracy': 0.5895468496118433, 'ROC AUC': 0.5895468496118433, 'F1 Score': 0.6358483840291795, 'Time taken': 0.32645583152770996}\n",
      "{'Model': 'SGDClassifier', 'Accuracy': 0.7517985611510791, 'Balanced Accuracy': 0.6378708551483421, 'ROC AUC': 0.6378708551483421, 'F1 Score': 0.7194676393679397, 'Time taken': 0.09875321388244629}\n",
      " 90%|████████▉ | 26/29 [00:14<00:01,  2.23it/s]{'Model': 'SVC', 'Accuracy': 0.7266187050359713, 'Balanced Accuracy': 0.5726063669735812, 'ROC AUC': 0.5726063669735814, 'F1 Score': 0.6557842901988825, 'Time taken': 1.075127124786377}\n",
      " 97%|█████████▋| 28/29 [00:15<00:00,  2.01it/s]{'Model': 'XGBClassifier', 'Accuracy': 0.6834532374100719, 'Balanced Accuracy': 0.5818739844737317, 'ROC AUC': 0.5818739844737318, 'F1 Score': 0.660019687862692, 'Time taken': 1.153914451599121}\n",
      "100%|██████████| 29/29 [00:15<00:00,  1.81it/s]{'Model': 'LGBMClassifier', 'Accuracy': 0.6510791366906474, 'Balanced Accuracy': 0.5677017512186315, 'ROC AUC': 0.5677017512186315, 'F1 Score': 0.6396216679259437, 'Time taken': 0.3011937141418457}\n",
      "\n"
     ]
    }
   ],
   "source": [
    "clf = LazyClassifier(verbose=3,ignore_warnings=True, custom_metric=None)\n",
    "models,predictions = clf.fit(X_train_tfidf.A, X_test_tfidf.A, y_train, y_test)"
   ]
  },
  {
   "cell_type": "code",
   "execution_count": 195,
   "metadata": {},
   "outputs": [
    {
     "output_type": "execute_result",
     "data": {
      "text/plain": [
       "                               Accuracy  Balanced Accuracy  ROC AUC  F1 Score  \\\n",
       "Model                                                                           \n",
       "LogisticRegression                 0.74               0.69     0.69      0.74   \n",
       "PassiveAggressiveClassifier        0.72               0.67     0.67      0.72   \n",
       "GaussianNB                         0.63               0.66     0.66      0.65   \n",
       "NearestCentroid                    0.70               0.66     0.66      0.70   \n",
       "NuSVC                              0.76               0.65     0.65      0.73   \n",
       "Perceptron                         0.70               0.64     0.64      0.70   \n",
       "KNeighborsClassifier               0.69               0.64     0.64      0.69   \n",
       "SGDClassifier                      0.75               0.64     0.64      0.72   \n",
       "BernoulliNB                        0.73               0.64     0.64      0.71   \n",
       "ExtraTreesClassifier               0.73               0.62     0.62      0.70   \n",
       "LinearSVC                          0.65               0.62     0.62      0.66   \n",
       "RandomForestClassifier             0.72               0.61     0.61      0.69   \n",
       "BaggingClassifier                  0.69               0.60     0.60      0.67   \n",
       "AdaBoostClassifier                 0.69               0.59     0.59      0.67   \n",
       "RidgeClassifierCV                  0.63               0.59     0.59      0.64   \n",
       "ExtraTreeClassifier                0.64               0.58     0.58      0.64   \n",
       "XGBClassifier                      0.68               0.58     0.58      0.66   \n",
       "RidgeClassifier                    0.59               0.58     0.58      0.60   \n",
       "SVC                                0.73               0.57     0.57      0.66   \n",
       "LGBMClassifier                     0.65               0.57     0.57      0.64   \n",
       "QuadraticDiscriminantAnalysis      0.58               0.54     0.54      0.59   \n",
       "LinearDiscriminantAnalysis         0.52               0.54     0.54      0.54   \n",
       "DecisionTreeClassifier             0.60               0.53     0.53      0.60   \n",
       "DummyClassifier                    0.59               0.52     0.52      0.59   \n",
       "LabelSpreading                     0.69               0.51     0.51      0.58   \n",
       "LabelPropagation                   0.69               0.51     0.51      0.58   \n",
       "CalibratedClassifierCV             0.69               0.50     0.50      0.56   \n",
       "\n",
       "                               Time Taken  \n",
       "Model                                      \n",
       "LogisticRegression                   0.14  \n",
       "PassiveAggressiveClassifier          0.11  \n",
       "GaussianNB                           0.09  \n",
       "NearestCentroid                      0.07  \n",
       "NuSVC                                1.09  \n",
       "Perceptron                           0.09  \n",
       "KNeighborsClassifier                 0.51  \n",
       "SGDClassifier                        0.10  \n",
       "BernoulliNB                          0.08  \n",
       "ExtraTreesClassifier                 1.02  \n",
       "LinearSVC                            1.10  \n",
       "RandomForestClassifier               0.60  \n",
       "BaggingClassifier                    0.87  \n",
       "AdaBoostClassifier                   0.65  \n",
       "RidgeClassifierCV                    0.33  \n",
       "ExtraTreeClassifier                  0.08  \n",
       "XGBClassifier                        1.15  \n",
       "RidgeClassifier                      0.11  \n",
       "SVC                                  1.08  \n",
       "LGBMClassifier                       0.30  \n",
       "QuadraticDiscriminantAnalysis        0.53  \n",
       "LinearDiscriminantAnalysis           0.73  \n",
       "DecisionTreeClassifier               0.14  \n",
       "DummyClassifier                      0.07  \n",
       "LabelSpreading                       0.15  \n",
       "LabelPropagation                     0.14  \n",
       "CalibratedClassifierCV               4.59  "
      ],
      "text/html": "<div>\n<style scoped>\n    .dataframe tbody tr th:only-of-type {\n        vertical-align: middle;\n    }\n\n    .dataframe tbody tr th {\n        vertical-align: top;\n    }\n\n    .dataframe thead th {\n        text-align: right;\n    }\n</style>\n<table border=\"1\" class=\"dataframe\">\n  <thead>\n    <tr style=\"text-align: right;\">\n      <th></th>\n      <th>Accuracy</th>\n      <th>Balanced Accuracy</th>\n      <th>ROC AUC</th>\n      <th>F1 Score</th>\n      <th>Time Taken</th>\n    </tr>\n    <tr>\n      <th>Model</th>\n      <th></th>\n      <th></th>\n      <th></th>\n      <th></th>\n      <th></th>\n    </tr>\n  </thead>\n  <tbody>\n    <tr>\n      <th>LogisticRegression</th>\n      <td>0.74</td>\n      <td>0.69</td>\n      <td>0.69</td>\n      <td>0.74</td>\n      <td>0.14</td>\n    </tr>\n    <tr>\n      <th>PassiveAggressiveClassifier</th>\n      <td>0.72</td>\n      <td>0.67</td>\n      <td>0.67</td>\n      <td>0.72</td>\n      <td>0.11</td>\n    </tr>\n    <tr>\n      <th>GaussianNB</th>\n      <td>0.63</td>\n      <td>0.66</td>\n      <td>0.66</td>\n      <td>0.65</td>\n      <td>0.09</td>\n    </tr>\n    <tr>\n      <th>NearestCentroid</th>\n      <td>0.70</td>\n      <td>0.66</td>\n      <td>0.66</td>\n      <td>0.70</td>\n      <td>0.07</td>\n    </tr>\n    <tr>\n      <th>NuSVC</th>\n      <td>0.76</td>\n      <td>0.65</td>\n      <td>0.65</td>\n      <td>0.73</td>\n      <td>1.09</td>\n    </tr>\n    <tr>\n      <th>Perceptron</th>\n      <td>0.70</td>\n      <td>0.64</td>\n      <td>0.64</td>\n      <td>0.70</td>\n      <td>0.09</td>\n    </tr>\n    <tr>\n      <th>KNeighborsClassifier</th>\n      <td>0.69</td>\n      <td>0.64</td>\n      <td>0.64</td>\n      <td>0.69</td>\n      <td>0.51</td>\n    </tr>\n    <tr>\n      <th>SGDClassifier</th>\n      <td>0.75</td>\n      <td>0.64</td>\n      <td>0.64</td>\n      <td>0.72</td>\n      <td>0.10</td>\n    </tr>\n    <tr>\n      <th>BernoulliNB</th>\n      <td>0.73</td>\n      <td>0.64</td>\n      <td>0.64</td>\n      <td>0.71</td>\n      <td>0.08</td>\n    </tr>\n    <tr>\n      <th>ExtraTreesClassifier</th>\n      <td>0.73</td>\n      <td>0.62</td>\n      <td>0.62</td>\n      <td>0.70</td>\n      <td>1.02</td>\n    </tr>\n    <tr>\n      <th>LinearSVC</th>\n      <td>0.65</td>\n      <td>0.62</td>\n      <td>0.62</td>\n      <td>0.66</td>\n      <td>1.10</td>\n    </tr>\n    <tr>\n      <th>RandomForestClassifier</th>\n      <td>0.72</td>\n      <td>0.61</td>\n      <td>0.61</td>\n      <td>0.69</td>\n      <td>0.60</td>\n    </tr>\n    <tr>\n      <th>BaggingClassifier</th>\n      <td>0.69</td>\n      <td>0.60</td>\n      <td>0.60</td>\n      <td>0.67</td>\n      <td>0.87</td>\n    </tr>\n    <tr>\n      <th>AdaBoostClassifier</th>\n      <td>0.69</td>\n      <td>0.59</td>\n      <td>0.59</td>\n      <td>0.67</td>\n      <td>0.65</td>\n    </tr>\n    <tr>\n      <th>RidgeClassifierCV</th>\n      <td>0.63</td>\n      <td>0.59</td>\n      <td>0.59</td>\n      <td>0.64</td>\n      <td>0.33</td>\n    </tr>\n    <tr>\n      <th>ExtraTreeClassifier</th>\n      <td>0.64</td>\n      <td>0.58</td>\n      <td>0.58</td>\n      <td>0.64</td>\n      <td>0.08</td>\n    </tr>\n    <tr>\n      <th>XGBClassifier</th>\n      <td>0.68</td>\n      <td>0.58</td>\n      <td>0.58</td>\n      <td>0.66</td>\n      <td>1.15</td>\n    </tr>\n    <tr>\n      <th>RidgeClassifier</th>\n      <td>0.59</td>\n      <td>0.58</td>\n      <td>0.58</td>\n      <td>0.60</td>\n      <td>0.11</td>\n    </tr>\n    <tr>\n      <th>SVC</th>\n      <td>0.73</td>\n      <td>0.57</td>\n      <td>0.57</td>\n      <td>0.66</td>\n      <td>1.08</td>\n    </tr>\n    <tr>\n      <th>LGBMClassifier</th>\n      <td>0.65</td>\n      <td>0.57</td>\n      <td>0.57</td>\n      <td>0.64</td>\n      <td>0.30</td>\n    </tr>\n    <tr>\n      <th>QuadraticDiscriminantAnalysis</th>\n      <td>0.58</td>\n      <td>0.54</td>\n      <td>0.54</td>\n      <td>0.59</td>\n      <td>0.53</td>\n    </tr>\n    <tr>\n      <th>LinearDiscriminantAnalysis</th>\n      <td>0.52</td>\n      <td>0.54</td>\n      <td>0.54</td>\n      <td>0.54</td>\n      <td>0.73</td>\n    </tr>\n    <tr>\n      <th>DecisionTreeClassifier</th>\n      <td>0.60</td>\n      <td>0.53</td>\n      <td>0.53</td>\n      <td>0.60</td>\n      <td>0.14</td>\n    </tr>\n    <tr>\n      <th>DummyClassifier</th>\n      <td>0.59</td>\n      <td>0.52</td>\n      <td>0.52</td>\n      <td>0.59</td>\n      <td>0.07</td>\n    </tr>\n    <tr>\n      <th>LabelSpreading</th>\n      <td>0.69</td>\n      <td>0.51</td>\n      <td>0.51</td>\n      <td>0.58</td>\n      <td>0.15</td>\n    </tr>\n    <tr>\n      <th>LabelPropagation</th>\n      <td>0.69</td>\n      <td>0.51</td>\n      <td>0.51</td>\n      <td>0.58</td>\n      <td>0.14</td>\n    </tr>\n    <tr>\n      <th>CalibratedClassifierCV</th>\n      <td>0.69</td>\n      <td>0.50</td>\n      <td>0.50</td>\n      <td>0.56</td>\n      <td>4.59</td>\n    </tr>\n  </tbody>\n</table>\n</div>"
     },
     "metadata": {},
     "execution_count": 195
    }
   ],
   "source": [
    "models"
   ]
  }
 ]
}