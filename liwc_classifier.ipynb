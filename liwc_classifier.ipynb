{
 "metadata": {
  "language_info": {
   "codemirror_mode": {
    "name": "ipython",
    "version": 3
   },
   "file_extension": ".py",
   "mimetype": "text/x-python",
   "name": "python",
   "nbconvert_exporter": "python",
   "pygments_lexer": "ipython3",
   "version": "3.7.10"
  },
  "orig_nbformat": 2,
  "kernelspec": {
   "name": "python3710jvsc74a57bd03e9b354ce98f47c9dd0b59702fdeb863bfffe347fccce27b4aea934dfd1532aa",
   "display_name": "Python 3.7.10 64-bit ('sentiment-analysis': conda)"
  }
 },
 "nbformat": 4,
 "nbformat_minor": 2,
 "cells": [
  {
   "cell_type": "code",
   "execution_count": 1,
   "metadata": {},
   "outputs": [],
   "source": [
    "import pandas as pd\n",
    "import utils\n",
    "from sklearn.metrics import classification_report, confusion_matrix"
   ]
  },
  {
   "cell_type": "code",
   "execution_count": 2,
   "metadata": {},
   "outputs": [],
   "source": [
    "df = pd.read_excel('data.xlsx')"
   ]
  },
  {
   "cell_type": "code",
   "execution_count": 28,
   "metadata": {},
   "outputs": [],
   "source": []
  },
  {
   "cell_type": "code",
   "execution_count": 3,
   "metadata": {},
   "outputs": [],
   "source": [
    "df = utils.preprocess(df)"
   ]
  },
  {
   "cell_type": "code",
   "execution_count": 4,
   "metadata": {},
   "outputs": [],
   "source": [
    "df.dropna(inplace=True)\n",
    "df.drop_duplicates(subset=['preprocessed_text'], inplace=True)\n",
    "df = df[df.preprocessed_text != '']"
   ]
  },
  {
   "cell_type": "code",
   "execution_count": 5,
   "metadata": {},
   "outputs": [
    {
     "output_type": "execute_result",
     "data": {
      "text/plain": [
       " 0    1253\n",
       " 1     433\n",
       "-1      92\n",
       "Name: classificacao, dtype: int64"
      ]
     },
     "metadata": {},
     "execution_count": 5
    }
   ],
   "source": [
    "df.classificacao.value_counts()"
   ]
  },
  {
   "cell_type": "code",
   "execution_count": 6,
   "metadata": {},
   "outputs": [
    {
     "output_type": "execute_result",
     "data": {
      "text/plain": [
       "1    1107\n",
       "0     671\n",
       "Name: is_subjective, dtype: int64"
      ]
     },
     "metadata": {},
     "execution_count": 6
    }
   ],
   "source": [
    "df.is_subjective.value_counts()"
   ]
  },
  {
   "cell_type": "code",
   "execution_count": 7,
   "metadata": {},
   "outputs": [],
   "source": [
    "df['is_subjective_label'] = df['classificacao']"
   ]
  },
  {
   "cell_type": "code",
   "execution_count": 8,
   "metadata": {},
   "outputs": [],
   "source": [
    "df.is_subjective_label.replace(-1, 1, inplace=True)"
   ]
  },
  {
   "cell_type": "code",
   "execution_count": 9,
   "metadata": {},
   "outputs": [],
   "source": [
    "df.rename(columns={'is_subjective': 'is_subjective_liwc'}, inplace=True)"
   ]
  },
  {
   "cell_type": "code",
   "execution_count": 10,
   "metadata": {},
   "outputs": [
    {
     "output_type": "execute_result",
     "data": {
      "text/plain": [
       "0    1253\n",
       "1     525\n",
       "Name: is_subjective_label, dtype: int64"
      ]
     },
     "metadata": {},
     "execution_count": 10
    }
   ],
   "source": [
    "df.is_subjective_label.value_counts()"
   ]
  },
  {
   "cell_type": "code",
   "execution_count": 11,
   "metadata": {},
   "outputs": [
    {
     "output_type": "execute_result",
     "data": {
      "text/plain": [
       "      is_subjective_label  is_subjective_liwc\n",
       "0                       0                   1\n",
       "1                       0                   0\n",
       "2                       0                   1\n",
       "4                       0                   0\n",
       "5                       1                   1\n",
       "...                   ...                 ...\n",
       "1994                    0                   1\n",
       "1995                    1                   1\n",
       "1997                    1                   1\n",
       "1998                    1                   1\n",
       "1999                    0                   1\n",
       "\n",
       "[1778 rows x 2 columns]"
      ],
      "text/html": "<div>\n<style scoped>\n    .dataframe tbody tr th:only-of-type {\n        vertical-align: middle;\n    }\n\n    .dataframe tbody tr th {\n        vertical-align: top;\n    }\n\n    .dataframe thead th {\n        text-align: right;\n    }\n</style>\n<table border=\"1\" class=\"dataframe\">\n  <thead>\n    <tr style=\"text-align: right;\">\n      <th></th>\n      <th>is_subjective_label</th>\n      <th>is_subjective_liwc</th>\n    </tr>\n  </thead>\n  <tbody>\n    <tr>\n      <th>0</th>\n      <td>0</td>\n      <td>1</td>\n    </tr>\n    <tr>\n      <th>1</th>\n      <td>0</td>\n      <td>0</td>\n    </tr>\n    <tr>\n      <th>2</th>\n      <td>0</td>\n      <td>1</td>\n    </tr>\n    <tr>\n      <th>4</th>\n      <td>0</td>\n      <td>0</td>\n    </tr>\n    <tr>\n      <th>5</th>\n      <td>1</td>\n      <td>1</td>\n    </tr>\n    <tr>\n      <th>...</th>\n      <td>...</td>\n      <td>...</td>\n    </tr>\n    <tr>\n      <th>1994</th>\n      <td>0</td>\n      <td>1</td>\n    </tr>\n    <tr>\n      <th>1995</th>\n      <td>1</td>\n      <td>1</td>\n    </tr>\n    <tr>\n      <th>1997</th>\n      <td>1</td>\n      <td>1</td>\n    </tr>\n    <tr>\n      <th>1998</th>\n      <td>1</td>\n      <td>1</td>\n    </tr>\n    <tr>\n      <th>1999</th>\n      <td>0</td>\n      <td>1</td>\n    </tr>\n  </tbody>\n</table>\n<p>1778 rows × 2 columns</p>\n</div>"
     },
     "metadata": {},
     "execution_count": 11
    }
   ],
   "source": [
    "df[['is_subjective_label', 'is_subjective_liwc']]"
   ]
  },
  {
   "cell_type": "code",
   "execution_count": 12,
   "metadata": {},
   "outputs": [
    {
     "output_type": "stream",
     "name": "stdout",
     "text": [
      "              precision    recall  f1-score   support\n\n           0       0.73      0.39      0.51      1253\n           1       0.31      0.66      0.42       525\n\n    accuracy                           0.47      1778\n   macro avg       0.52      0.52      0.47      1778\nweighted avg       0.61      0.47      0.48      1778\n\n"
     ]
    }
   ],
   "source": [
    "print(classification_report(y_true=df['is_subjective_label'], y_pred=df['is_subjective_liwc']))"
   ]
  },
  {
   "cell_type": "code",
   "execution_count": 13,
   "metadata": {},
   "outputs": [
    {
     "output_type": "stream",
     "name": "stdout",
     "text": [
      "[[490 763]\n [181 344]]\n"
     ]
    }
   ],
   "source": [
    "print(confusion_matrix(y_true=df['is_subjective_label'], y_pred=df['is_subjective_liwc']))"
   ]
  },
  {
   "cell_type": "code",
   "execution_count": 14,
   "metadata": {},
   "outputs": [],
   "source": [
    "result = df['is_subjective_label'] == df['is_subjective_liwc']"
   ]
  },
  {
   "cell_type": "code",
   "execution_count": 15,
   "metadata": {},
   "outputs": [
    {
     "output_type": "execute_result",
     "data": {
      "text/plain": [
       "False    944\n",
       "True     834\n",
       "dtype: int64"
      ]
     },
     "metadata": {},
     "execution_count": 15
    }
   ],
   "source": [
    "result.value_counts()"
   ]
  },
  {
   "cell_type": "code",
   "execution_count": 16,
   "metadata": {},
   "outputs": [
    {
     "output_type": "execute_result",
     "data": {
      "text/plain": [
       "                   id_str                                               text  \\\n",
       "0     1363503470377136130  @mvpcastro Nunca em momento houve limites no B...   \n",
       "1     1364981948872089602                      @tmaia29 @Flamengo porraaaaaa   \n",
       "2     1363576501065707527               @avictaick Motivo o Flamengo?? Kkkkk   \n",
       "4     1363561902488637446    @negrixXxxXXx e quando n tem flamengo na parada   \n",
       "5     1363584409228759044  Pqp porq eo Rogério vai mudar todo o time cara...   \n",
       "...                   ...                                                ...   \n",
       "1994  1363601596941291529  @AcidoPH2O @perboni_ @RenataBFan Dos lances co...   \n",
       "1995  1364980236119646211  @macgaren Eu so não quero ver o Flamengo campe...   \n",
       "1997  1364964693169889282  EU NASCI FLAMENGO E SEMPRE VOU TE AMAR NAO IMP...   \n",
       "1998  1365093267776434179                    Ai Flamengo, por favor 🙏🏽🙏🏽🙏🏽🙏🏽   \n",
       "1999  1363605164310069248  @Paitalok @LuscaSanttoos @O_tal_do_Renan7 @The...   \n",
       "\n",
       "                                      preprocessed_text  \\\n",
       "0     nunca em momento houve limites no brasil para ...   \n",
       "1                                            porraaaaaa   \n",
       "2                               motivo o flamengo kkkkk   \n",
       "4                     e quando n tem flamengo na parada   \n",
       "5     pqp porq eo rogerio vai mudar todo o time cara...   \n",
       "...                                                 ...   \n",
       "1994  dos lances contra o proprio flamengo no primei...   \n",
       "1995   eu so nao quero ver o flamengo campeao novamente   \n",
       "1997  eu nasci flamengo e sempre vou te amar nao imp...   \n",
       "1998                              ai flamengo por favor   \n",
       "1999  sim ai e com ele se eles apitam pros dois lado...   \n",
       "\n",
       "                                          liwc_analysis  is_subjective_liwc  \\\n",
       "0     {'function (Function Words)': 12, 'adverb (Adv...                   1   \n",
       "1                                                    {}                   0   \n",
       "2     {'cogproc (Cognitive Processes)': 1, 'insight ...                   1   \n",
       "4     {'function (Function Words)': 4, 'conj (Conjun...                   0   \n",
       "5     {'affect (Affect)': 2, 'negemo (Negative Emoti...                   1   \n",
       "...                                                 ...                 ...   \n",
       "1994  {'function (Function Words)': 8, 'article (Art...                   1   \n",
       "1995  {'function (Function Words)': 4, 'pronoun (Pro...                   1   \n",
       "1997  {'function (Function Words)': 10, 'pronoun (Pr...                   1   \n",
       "1998  {'affect (Affect)': 2, 'negemo (Negative Emoti...                   1   \n",
       "1999  {'function (Function Words)': 6, 'adverb (Adve...                   1   \n",
       "\n",
       "      classificacao  is_subjective_label  \n",
       "0                 0                    0  \n",
       "1                 0                    0  \n",
       "2                 0                    0  \n",
       "4                 0                    0  \n",
       "5                 1                    1  \n",
       "...             ...                  ...  \n",
       "1994              0                    0  \n",
       "1995             -1                    1  \n",
       "1997              1                    1  \n",
       "1998              1                    1  \n",
       "1999              0                    0  \n",
       "\n",
       "[1778 rows x 7 columns]"
      ],
      "text/html": "<div>\n<style scoped>\n    .dataframe tbody tr th:only-of-type {\n        vertical-align: middle;\n    }\n\n    .dataframe tbody tr th {\n        vertical-align: top;\n    }\n\n    .dataframe thead th {\n        text-align: right;\n    }\n</style>\n<table border=\"1\" class=\"dataframe\">\n  <thead>\n    <tr style=\"text-align: right;\">\n      <th></th>\n      <th>id_str</th>\n      <th>text</th>\n      <th>preprocessed_text</th>\n      <th>liwc_analysis</th>\n      <th>is_subjective_liwc</th>\n      <th>classificacao</th>\n      <th>is_subjective_label</th>\n    </tr>\n  </thead>\n  <tbody>\n    <tr>\n      <th>0</th>\n      <td>1363503470377136130</td>\n      <td>@mvpcastro Nunca em momento houve limites no B...</td>\n      <td>nunca em momento houve limites no brasil para ...</td>\n      <td>{'function (Function Words)': 12, 'adverb (Adv...</td>\n      <td>1</td>\n      <td>0</td>\n      <td>0</td>\n    </tr>\n    <tr>\n      <th>1</th>\n      <td>1364981948872089602</td>\n      <td>@tmaia29 @Flamengo porraaaaaa</td>\n      <td>porraaaaaa</td>\n      <td>{}</td>\n      <td>0</td>\n      <td>0</td>\n      <td>0</td>\n    </tr>\n    <tr>\n      <th>2</th>\n      <td>1363576501065707527</td>\n      <td>@avictaick Motivo o Flamengo?? Kkkkk</td>\n      <td>motivo o flamengo kkkkk</td>\n      <td>{'cogproc (Cognitive Processes)': 1, 'insight ...</td>\n      <td>1</td>\n      <td>0</td>\n      <td>0</td>\n    </tr>\n    <tr>\n      <th>4</th>\n      <td>1363561902488637446</td>\n      <td>@negrixXxxXXx e quando n tem flamengo na parada</td>\n      <td>e quando n tem flamengo na parada</td>\n      <td>{'function (Function Words)': 4, 'conj (Conjun...</td>\n      <td>0</td>\n      <td>0</td>\n      <td>0</td>\n    </tr>\n    <tr>\n      <th>5</th>\n      <td>1363584409228759044</td>\n      <td>Pqp porq eo Rogério vai mudar todo o time cara...</td>\n      <td>pqp porq eo rogerio vai mudar todo o time cara...</td>\n      <td>{'affect (Affect)': 2, 'negemo (Negative Emoti...</td>\n      <td>1</td>\n      <td>1</td>\n      <td>1</td>\n    </tr>\n    <tr>\n      <th>...</th>\n      <td>...</td>\n      <td>...</td>\n      <td>...</td>\n      <td>...</td>\n      <td>...</td>\n      <td>...</td>\n      <td>...</td>\n    </tr>\n    <tr>\n      <th>1994</th>\n      <td>1363601596941291529</td>\n      <td>@AcidoPH2O @perboni_ @RenataBFan Dos lances co...</td>\n      <td>dos lances contra o proprio flamengo no primei...</td>\n      <td>{'function (Function Words)': 8, 'article (Art...</td>\n      <td>1</td>\n      <td>0</td>\n      <td>0</td>\n    </tr>\n    <tr>\n      <th>1995</th>\n      <td>1364980236119646211</td>\n      <td>@macgaren Eu so não quero ver o Flamengo campe...</td>\n      <td>eu so nao quero ver o flamengo campeao novamente</td>\n      <td>{'function (Function Words)': 4, 'pronoun (Pro...</td>\n      <td>1</td>\n      <td>-1</td>\n      <td>1</td>\n    </tr>\n    <tr>\n      <th>1997</th>\n      <td>1364964693169889282</td>\n      <td>EU NASCI FLAMENGO E SEMPRE VOU TE AMAR NAO IMP...</td>\n      <td>eu nasci flamengo e sempre vou te amar nao imp...</td>\n      <td>{'function (Function Words)': 10, 'pronoun (Pr...</td>\n      <td>1</td>\n      <td>1</td>\n      <td>1</td>\n    </tr>\n    <tr>\n      <th>1998</th>\n      <td>1365093267776434179</td>\n      <td>Ai Flamengo, por favor 🙏🏽🙏🏽🙏🏽🙏🏽</td>\n      <td>ai flamengo por favor</td>\n      <td>{'affect (Affect)': 2, 'negemo (Negative Emoti...</td>\n      <td>1</td>\n      <td>1</td>\n      <td>1</td>\n    </tr>\n    <tr>\n      <th>1999</th>\n      <td>1363605164310069248</td>\n      <td>@Paitalok @LuscaSanttoos @O_tal_do_Renan7 @The...</td>\n      <td>sim ai e com ele se eles apitam pros dois lado...</td>\n      <td>{'function (Function Words)': 6, 'adverb (Adve...</td>\n      <td>1</td>\n      <td>0</td>\n      <td>0</td>\n    </tr>\n  </tbody>\n</table>\n<p>1778 rows × 7 columns</p>\n</div>"
     },
     "metadata": {},
     "execution_count": 16
    }
   ],
   "source": [
    "df.to_excel('data.xlsx')"
   ]
  }
 ]
}