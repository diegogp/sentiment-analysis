{
 "metadata": {
  "language_info": {
   "codemirror_mode": {
    "name": "ipython",
    "version": 3
   },
   "file_extension": ".py",
   "mimetype": "text/x-python",
   "name": "python",
   "nbconvert_exporter": "python",
   "pygments_lexer": "ipython3",
   "version": "3.7.10"
  },
  "orig_nbformat": 2,
  "kernelspec": {
   "name": "python3710jvsc74a57bd03e9b354ce98f47c9dd0b59702fdeb863bfffe347fccce27b4aea934dfd1532aa",
   "display_name": "Python 3.7.10 64-bit ('sentiment-analysis': conda)"
  }
 },
 "nbformat": 4,
 "nbformat_minor": 2,
 "cells": [
  {
   "cell_type": "code",
   "execution_count": 6,
   "metadata": {},
   "outputs": [
    {
     "output_type": "stream",
     "name": "stderr",
     "text": [
      "C:\\Users\\Diego\\AppData\\Roaming\\Python\\Python37\\site-packages\\sklearn\\utils\\deprecation.py:143: FutureWarning: The sklearn.utils.testing module is  deprecated in version 0.22 and will be removed in version 0.24. The corresponding classes / functions should instead be imported from sklearn.utils. Anything that cannot be imported from sklearn.utils is now part of the private API.\n  warnings.warn(message, FutureWarning)\n"
     ]
    }
   ],
   "source": [
    "from sklearn.model_selection import train_test_split\n",
    "from lazypredict.Supervised import LazyClassifier\n",
    "from sklearn.neighbors import NearestCentroid\n",
    "from sklearn.feature_extraction.text import TfidfVectorizer, CountVectorizer\n",
    "from sklearn.metrics import classification_report\n",
    "from sklearn.pipeline import Pipeline\n",
    "from sklearn.model_selection import GridSearchCV\n",
    "import pandas as pd\n",
    "import utils\n"
   ]
  },
  {
   "cell_type": "code",
   "execution_count": 7,
   "metadata": {},
   "outputs": [],
   "source": [
    "def load_data():\n",
    "    dataset = pd.read_excel('data.xlsx')\n",
    "    print(\"\\n\")\n",
    "    print('Loading Dataset shape: {}'.format(dataset.shape))\n",
    "    return dataset"
   ]
  },
  {
   "cell_type": "code",
   "execution_count": 8,
   "metadata": {},
   "outputs": [],
   "source": [
    "def train_test_lazy_classifier(X, y, vectorizer):\n",
    "    X_train, X_test, y_train, y_test = train_test_split(X,\n",
    "                                            y, stratify=y, random_state=0)\n",
    "    \n",
    "    X_train_vectors = vectorizer.fit_transform(X_train)\n",
    "    X_test_vectors = vectorizer.transform(X_test)\n",
    "\n",
    "    clf = LazyClassifier(verbose=0, ignore_warnings=True, custom_metric=None)\n",
    "    models, predictions = clf.fit(X_train_vectors.A, X_test_vectors.A, y_train, y_test)\n",
    "    print(\"\\n\")\n",
    "    #get best F1 Score model\n",
    "    models = models.sort_values(by=['ROC AUC'] , ascending=False)\n",
    "    print(models)\n",
    "    print(\"Best Model: {}\".format(models.index[0]))\n",
    "    best_model = clf.models[models.index[0]]\n",
    "    return vectorizer, best_model\n"
   ]
  },
  {
   "cell_type": "code",
   "execution_count": 10,
   "metadata": {},
   "outputs": [
    {
     "output_type": "stream",
     "name": "stdout",
     "text": [
      "\n\nLoading Dataset shape: (1778, 8)\n"
     ]
    }
   ],
   "source": [
    "dataset = load_data()\n",
    "dataset = dataset[dataset.is_subjective_liwc == 1]\n",
    "dataset = utils.preprocess(dataset)"
   ]
  },
  {
   "cell_type": "code",
   "execution_count": 11,
   "metadata": {},
   "outputs": [
    {
     "output_type": "execute_result",
     "data": {
      "text/plain": [
       "(1107, 8)"
      ]
     },
     "metadata": {},
     "execution_count": 11
    }
   ],
   "source": [
    "dataset.shape"
   ]
  },
  {
   "cell_type": "code",
   "execution_count": 12,
   "metadata": {},
   "outputs": [
    {
     "output_type": "stream",
     "name": "stderr",
     "text": [
      "100%|██████████| 29/29 [00:16<00:00,  1.81it/s]\n",
      "\n",
      "                               Accuracy  Balanced Accuracy  ROC AUC  F1 Score  \\\n",
      "Model                                                                           \n",
      "LogisticRegression                 0.70               0.66     0.66      0.70   \n",
      "NearestCentroid                    0.68               0.64     0.64      0.69   \n",
      "BernoulliNB                        0.74               0.64     0.64      0.71   \n",
      "Perceptron                         0.68               0.64     0.64      0.68   \n",
      "NuSVC                              0.73               0.63     0.63      0.71   \n",
      "PassiveAggressiveClassifier        0.67               0.63     0.63      0.67   \n",
      "LinearSVC                          0.65               0.63     0.63      0.66   \n",
      "GaussianNB                         0.60               0.62     0.62      0.62   \n",
      "ExtraTreesClassifier               0.73               0.62     0.62      0.70   \n",
      "AdaBoostClassifier                 0.71               0.62     0.62      0.69   \n",
      "RidgeClassifierCV                  0.61               0.60     0.60      0.62   \n",
      "RandomForestClassifier             0.72               0.60     0.60      0.68   \n",
      "SGDClassifier                      0.71               0.60     0.60      0.68   \n",
      "ExtraTreeClassifier                0.63               0.59     0.59      0.64   \n",
      "BaggingClassifier                  0.67               0.58     0.58      0.66   \n",
      "XGBClassifier                      0.65               0.58     0.58      0.65   \n",
      "KNeighborsClassifier               0.73               0.57     0.57      0.66   \n",
      "SVC                                0.73               0.57     0.57      0.66   \n",
      "DecisionTreeClassifier             0.61               0.57     0.57      0.62   \n",
      "LGBMClassifier                     0.66               0.57     0.57      0.64   \n",
      "RidgeClassifier                    0.55               0.54     0.54      0.56   \n",
      "QuadraticDiscriminantAnalysis      0.41               0.52     0.52      0.38   \n",
      "LabelPropagation                   0.69               0.51     0.51      0.58   \n",
      "LabelSpreading                     0.69               0.51     0.51      0.58   \n",
      "DummyClassifier                    0.57               0.51     0.51      0.58   \n",
      "CalibratedClassifierCV             0.69               0.50     0.50      0.56   \n",
      "LinearDiscriminantAnalysis         0.49               0.47     0.47      0.51   \n",
      "\n",
      "                               Time Taken  \n",
      "Model                                      \n",
      "LogisticRegression                   0.13  \n",
      "NearestCentroid                      0.07  \n",
      "BernoulliNB                          0.08  \n",
      "Perceptron                           0.08  \n",
      "NuSVC                                1.09  \n",
      "PassiveAggressiveClassifier          0.11  \n",
      "LinearSVC                            1.14  \n",
      "GaussianNB                           0.08  \n",
      "ExtraTreesClassifier                 1.08  \n",
      "AdaBoostClassifier                   0.70  \n",
      "RidgeClassifierCV                    0.47  \n",
      "RandomForestClassifier               0.62  \n",
      "SGDClassifier                        0.12  \n",
      "ExtraTreeClassifier                  0.08  \n",
      "BaggingClassifier                    0.75  \n",
      "XGBClassifier                        1.54  \n",
      "KNeighborsClassifier                 0.49  \n",
      "SVC                                  1.08  \n",
      "DecisionTreeClassifier               0.17  \n",
      "LGBMClassifier                       0.28  \n",
      "RidgeClassifier                      0.10  \n",
      "QuadraticDiscriminantAnalysis        0.51  \n",
      "LabelPropagation                     0.12  \n",
      "LabelSpreading                       0.13  \n",
      "DummyClassifier                      0.06  \n",
      "CalibratedClassifierCV               4.12  \n",
      "LinearDiscriminantAnalysis           0.72  \n",
      "Best Model: LogisticRegression\n",
      "\n"
     ]
    }
   ],
   "source": [
    "X, y = dataset['preprocessed_text'], dataset['is_subjective_label']\n",
    "vectorizer = TfidfVectorizer(max_features=1000, ngram_range=(1,1))\n",
    "vectorizer, best_model = train_test_lazy_classifier(X, y, vectorizer)"
   ]
  },
  {
   "cell_type": "code",
   "execution_count": 13,
   "metadata": {},
   "outputs": [],
   "source": [
    "pipe = Pipeline([\n",
    "    ('tfidf', TfidfVectorizer()),\n",
    "    ('clf', best_model['classifier'])\n",
    "])"
   ]
  },
  {
   "cell_type": "code",
   "execution_count": 14,
   "metadata": {},
   "outputs": [],
   "source": [
    "X_train, X_test, y_train, y_test = train_test_split(X, y, stratify=y, random_state=0)"
   ]
  },
  {
   "cell_type": "code",
   "execution_count": 15,
   "metadata": {},
   "outputs": [],
   "source": [
    "params = {\n",
    " 'tfidf__max_features':[200, 500, 1000, 2000],\n",
    " 'tfidf__ngram_range': [(1, 1), (1, 2), (2, 2), (1, 3), (2, 3), (3, 3)],\n",
    "}"
   ]
  },
  {
   "cell_type": "code",
   "execution_count": 16,
   "metadata": {},
   "outputs": [],
   "source": [
    "grid_search = GridSearchCV(pipe, cv=5, param_grid=params, n_jobs=-1, scoring='f1')"
   ]
  },
  {
   "cell_type": "code",
   "execution_count": 17,
   "metadata": {},
   "outputs": [
    {
     "output_type": "execute_result",
     "data": {
      "text/plain": [
       "GridSearchCV(cv=5,\n",
       "             estimator=Pipeline(steps=[('tfidf', TfidfVectorizer()),\n",
       "                                       ('clf',\n",
       "                                        LogisticRegression(random_state=42))]),\n",
       "             n_jobs=-1,\n",
       "             param_grid={'tfidf__max_features': [200, 500, 1000, 2000],\n",
       "                         'tfidf__ngram_range': [(1, 1), (1, 2), (2, 2), (1, 3),\n",
       "                                                (2, 3), (3, 3)]},\n",
       "             scoring='f1')"
      ]
     },
     "metadata": {},
     "execution_count": 17
    }
   ],
   "source": [
    "grid_search.fit(X_train, y_train)"
   ]
  },
  {
   "cell_type": "code",
   "execution_count": 18,
   "metadata": {},
   "outputs": [
    {
     "output_type": "execute_result",
     "data": {
      "text/plain": [
       "Pipeline(steps=[('tfidf',\n",
       "                 TfidfVectorizer(max_features=200, ngram_range=(1, 2))),\n",
       "                ('clf', LogisticRegression(random_state=42))])"
      ]
     },
     "metadata": {},
     "execution_count": 18
    }
   ],
   "source": [
    "grid_search.best_estimator_"
   ]
  },
  {
   "cell_type": "code",
   "execution_count": 19,
   "metadata": {},
   "outputs": [
    {
     "output_type": "stream",
     "name": "stdout",
     "text": [
      "Best score: 0.274\nBest parameters set:\n\ttfidf__max_features: 200\n\ttfidf__ngram_range: (1, 2)\n"
     ]
    }
   ],
   "source": [
    "print(\"Best score: %0.3f\" % grid_search.best_score_)\n",
    "print(\"Best parameters set:\")\n",
    "best_parameters = grid_search.best_estimator_.get_params()\n",
    "for param_name in sorted(params.keys()):\n",
    "    print(\"\\t%s: %r\" % (param_name, best_parameters[param_name]))"
   ]
  },
  {
   "cell_type": "code",
   "execution_count": 20,
   "metadata": {},
   "outputs": [],
   "source": [
    "y_pred = grid_search.best_estimator_.predict(X_test)"
   ]
  },
  {
   "cell_type": "code",
   "execution_count": 22,
   "metadata": {},
   "outputs": [
    {
     "output_type": "stream",
     "name": "stdout",
     "text": [
      "              precision    recall  f1-score   support\n\n           0       0.73      0.92      0.81       191\n           1       0.57      0.23      0.33        86\n\n    accuracy                           0.71       277\n   macro avg       0.65      0.58      0.57       277\nweighted avg       0.68      0.71      0.66       277\n\n"
     ]
    }
   ],
   "source": [
    "print(classification_report(y_test, y_pred))"
   ]
  }
 ]
}